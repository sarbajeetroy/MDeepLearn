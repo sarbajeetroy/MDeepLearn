{
  "nbformat": 4,
  "nbformat_minor": 0,
  "metadata": {
    "colab": {
      "provenance": [],
      "authorship_tag": "ABX9TyPrCmRLKIzUd90pSI05qh8Q",
      "include_colab_link": true
    },
    "kernelspec": {
      "name": "python3",
      "display_name": "Python 3"
    },
    "language_info": {
      "name": "python"
    }
  },
  "cells": [
    {
      "cell_type": "markdown",
      "metadata": {
        "id": "view-in-github",
        "colab_type": "text"
      },
      "source": [
        "<a href=\"https://colab.research.google.com/github/sarbajeetroy/MDeepLearn/blob/master/predict_Hand__written_number.ipynb\" target=\"_parent\"><img src=\"https://colab.research.google.com/assets/colab-badge.svg\" alt=\"Open In Colab\"/></a>"
      ]
    },
    {
      "cell_type": "code",
      "execution_count": null,
      "metadata": {
        "colab": {
          "base_uri": "https://localhost:8080/"
        },
        "id": "_pE9ZSgC_BOr",
        "outputId": "ea70a90d-9e4a-4e26-b55e-7f855fa752b6"
      },
      "outputs": [
        {
          "output_type": "stream",
          "name": "stdout",
          "text": [
            "\u001b[?25l   \u001b[90m━━━━━━━━━━━━━━━━━━━━━━━━━━━━━━━━━━━━━━━━\u001b[0m \u001b[32m0.0/235.3 kB\u001b[0m \u001b[31m?\u001b[0m eta \u001b[36m-:--:--\u001b[0m\r\u001b[2K   \u001b[91m━━━━━━━━━━━━━━━━━━━━━━━━━━━━━━━━━━━━━━\u001b[0m\u001b[90m╺\u001b[0m\u001b[90m━\u001b[0m \u001b[32m225.3/235.3 kB\u001b[0m \u001b[31m11.7 MB/s\u001b[0m eta \u001b[36m0:00:01\u001b[0m\r\u001b[2K   \u001b[90m━━━━━━━━━━━━━━━━━━━━━━━━━━━━━━━━━━━━━━━━\u001b[0m \u001b[32m235.3/235.3 kB\u001b[0m \u001b[31m5.1 MB/s\u001b[0m eta \u001b[36m0:00:00\u001b[0m\n",
            "\u001b[2K   \u001b[90m━━━━━━━━━━━━━━━━━━━━━━━━━━━━━━━━━━━━━━━━\u001b[0m \u001b[32m78.2/78.2 kB\u001b[0m \u001b[31m4.4 MB/s\u001b[0m eta \u001b[36m0:00:00\u001b[0m\n",
            "\u001b[2K   \u001b[90m━━━━━━━━━━━━━━━━━━━━━━━━━━━━━━━━━━━━━━━━\u001b[0m \u001b[32m363.4/363.4 MB\u001b[0m \u001b[31m4.0 MB/s\u001b[0m eta \u001b[36m0:00:00\u001b[0m\n",
            "\u001b[2K   \u001b[90m━━━━━━━━━━━━━━━━━━━━━━━━━━━━━━━━━━━━━━━━\u001b[0m \u001b[32m13.8/13.8 MB\u001b[0m \u001b[31m52.7 MB/s\u001b[0m eta \u001b[36m0:00:00\u001b[0m\n",
            "\u001b[2K   \u001b[90m━━━━━━━━━━━━━━━━━━━━━━━━━━━━━━━━━━━━━━━━\u001b[0m \u001b[32m24.6/24.6 MB\u001b[0m \u001b[31m43.0 MB/s\u001b[0m eta \u001b[36m0:00:00\u001b[0m\n",
            "\u001b[2K   \u001b[90m━━━━━━━━━━━━━━━━━━━━━━━━━━━━━━━━━━━━━━━━\u001b[0m \u001b[32m883.7/883.7 kB\u001b[0m \u001b[31m33.7 MB/s\u001b[0m eta \u001b[36m0:00:00\u001b[0m\n",
            "\u001b[2K   \u001b[90m━━━━━━━━━━━━━━━━━━━━━━━━━━━━━━━━━━━━━━━━\u001b[0m \u001b[32m664.8/664.8 MB\u001b[0m \u001b[31m2.7 MB/s\u001b[0m eta \u001b[36m0:00:00\u001b[0m\n",
            "\u001b[2K   \u001b[90m━━━━━━━━━━━━━━━━━━━━━━━━━━━━━━━━━━━━━━━━\u001b[0m \u001b[32m211.5/211.5 MB\u001b[0m \u001b[31m5.7 MB/s\u001b[0m eta \u001b[36m0:00:00\u001b[0m\n",
            "\u001b[2K   \u001b[90m━━━━━━━━━━━━━━━━━━━━━━━━━━━━━━━━━━━━━━━━\u001b[0m \u001b[32m56.3/56.3 MB\u001b[0m \u001b[31m10.8 MB/s\u001b[0m eta \u001b[36m0:00:00\u001b[0m\n",
            "\u001b[2K   \u001b[90m━━━━━━━━━━━━━━━━━━━━━━━━━━━━━━━━━━━━━━━━\u001b[0m \u001b[32m127.9/127.9 MB\u001b[0m \u001b[31m7.4 MB/s\u001b[0m eta \u001b[36m0:00:00\u001b[0m\n",
            "\u001b[2K   \u001b[90m━━━━━━━━━━━━━━━━━━━━━━━━━━━━━━━━━━━━━━━━\u001b[0m \u001b[32m207.5/207.5 MB\u001b[0m \u001b[31m6.0 MB/s\u001b[0m eta \u001b[36m0:00:00\u001b[0m\n",
            "\u001b[2K   \u001b[90m━━━━━━━━━━━━━━━━━━━━━━━━━━━━━━━━━━━━━━━━\u001b[0m \u001b[32m21.1/21.1 MB\u001b[0m \u001b[31m94.4 MB/s\u001b[0m eta \u001b[36m0:00:00\u001b[0m\n",
            "\u001b[2K   \u001b[90m━━━━━━━━━━━━━━━━━━━━━━━━━━━━━━━━━━━━━━━━\u001b[0m \u001b[32m42.6/42.6 kB\u001b[0m \u001b[31m2.9 MB/s\u001b[0m eta \u001b[36m0:00:00\u001b[0m\n",
            "\u001b[2K   \u001b[90m━━━━━━━━━━━━━━━━━━━━━━━━━━━━━━━━━━━━━━━━\u001b[0m \u001b[32m1.2/1.2 MB\u001b[0m \u001b[31m53.6 MB/s\u001b[0m eta \u001b[36m0:00:00\u001b[0m\n",
            "\u001b[?25h"
          ]
        }
      ],
      "source": [
        "# Train model to identify a Cat vs a Dog.\n",
        "!pip install -Uqq fastai"
      ]
    },
    {
      "cell_type": "code",
      "source": [
        "from fastai.vision.all import *\n",
        "path = untar_data(URLs.MNIST_SAMPLE)\n",
        "\n",
        "path.ls()"
      ],
      "metadata": {
        "colab": {
          "base_uri": "https://localhost:8080/",
          "height": 55
        },
        "id": "V-Q6AHlY9Fhn",
        "outputId": "e3f47678-2127-49ae-a6ab-af1d43cb3c03"
      },
      "execution_count": null,
      "outputs": [
        {
          "output_type": "display_data",
          "data": {
            "text/plain": [
              "<IPython.core.display.HTML object>"
            ],
            "text/html": [
              "\n",
              "<style>\n",
              "    /* Turns off some styling */\n",
              "    progress {\n",
              "        /* gets rid of default border in Firefox and Opera. */\n",
              "        border: none;\n",
              "        /* Needs to be in here for Safari polyfill so background images work as expected. */\n",
              "        background-size: auto;\n",
              "    }\n",
              "    progress:not([value]), progress:not([value])::-webkit-progress-bar {\n",
              "        background: repeating-linear-gradient(45deg, #7e7e7e, #7e7e7e 10px, #5c5c5c 10px, #5c5c5c 20px);\n",
              "    }\n",
              "    .progress-bar-interrupted, .progress-bar-interrupted::-webkit-progress-bar {\n",
              "        background: #F44336;\n",
              "    }\n",
              "</style>\n"
            ]
          },
          "metadata": {}
        },
        {
          "output_type": "display_data",
          "data": {
            "text/plain": [
              "<IPython.core.display.HTML object>"
            ],
            "text/html": [
              "\n",
              "    <div>\n",
              "      <progress value='3219456' class='' max='3214948' style='width:300px; height:20px; vertical-align: middle;'></progress>\n",
              "      100.14% [3219456/3214948 00:00&lt;00:00]\n",
              "    </div>\n",
              "    "
            ]
          },
          "metadata": {}
        },
        {
          "output_type": "execute_result",
          "data": {
            "text/plain": [
              "(#3) [Path('/root/.fastai/data/mnist_sample/train'),Path('/root/.fastai/data/mnist_sample/valid'),Path('/root/.fastai/data/mnist_sample/labels.csv')]"
            ]
          },
          "metadata": {},
          "execution_count": 2
        }
      ]
    },
    {
      "cell_type": "code",
      "source": [
        "(path/'train').ls()"
      ],
      "metadata": {
        "colab": {
          "base_uri": "https://localhost:8080/"
        },
        "id": "gbDj4uAC-7zR",
        "outputId": "66e0cc29-c0a5-4fef-afb6-e1e4a91ad84e"
      },
      "execution_count": null,
      "outputs": [
        {
          "output_type": "execute_result",
          "data": {
            "text/plain": [
              "(#2) [Path('/root/.fastai/data/mnist_sample/train/3'),Path('/root/.fastai/data/mnist_sample/train/7')]"
            ]
          },
          "metadata": {},
          "execution_count": 3
        }
      ]
    },
    {
      "cell_type": "code",
      "source": [
        "threes = (path/'train'/'3').ls().sorted()\n",
        "sevens = (path/'train'/'7').ls().sorted()\n",
        "threes"
      ],
      "metadata": {
        "colab": {
          "base_uri": "https://localhost:8080/"
        },
        "id": "B4nYefSebS7c",
        "outputId": "5bb4f070-bfb1-464b-88a1-7d01f4ba74be"
      },
      "execution_count": null,
      "outputs": [
        {
          "output_type": "execute_result",
          "data": {
            "text/plain": [
              "(#6131) [Path('/root/.fastai/data/mnist_sample/train/3/10.png'),Path('/root/.fastai/data/mnist_sample/train/3/10000.png'),Path('/root/.fastai/data/mnist_sample/train/3/10011.png'),Path('/root/.fastai/data/mnist_sample/train/3/10031.png'),Path('/root/.fastai/data/mnist_sample/train/3/10034.png'),Path('/root/.fastai/data/mnist_sample/train/3/10042.png'),Path('/root/.fastai/data/mnist_sample/train/3/10052.png'),Path('/root/.fastai/data/mnist_sample/train/3/1007.png'),Path('/root/.fastai/data/mnist_sample/train/3/10074.png'),Path('/root/.fastai/data/mnist_sample/train/3/10091.png'),Path('/root/.fastai/data/mnist_sample/train/3/10093.png'),Path('/root/.fastai/data/mnist_sample/train/3/10097.png'),Path('/root/.fastai/data/mnist_sample/train/3/10099.png'),Path('/root/.fastai/data/mnist_sample/train/3/10116.png'),Path('/root/.fastai/data/mnist_sample/train/3/10125.png'),Path('/root/.fastai/data/mnist_sample/train/3/10137.png'),Path('/root/.fastai/data/mnist_sample/train/3/10141.png'),Path('/root/.fastai/data/mnist_sample/train/3/10144.png'),Path('/root/.fastai/data/mnist_sample/train/3/10155.png'),Path('/root/.fastai/data/mnist_sample/train/3/10161.png')...]"
            ]
          },
          "metadata": {},
          "execution_count": 4
        }
      ]
    },
    {
      "cell_type": "code",
      "source": [
        "im3_path = threes[1]\n",
        "im3 = Image.open(im3_path)\n",
        "im3"
      ],
      "metadata": {
        "colab": {
          "base_uri": "https://localhost:8080/",
          "height": 45
        },
        "id": "8p6KK218cfg0",
        "outputId": "bbce0229-0a46-4ca9-c2a9-8b38cceb1a59"
      },
      "execution_count": null,
      "outputs": [
        {
          "output_type": "execute_result",
          "data": {
            "text/plain": [
              "<PIL.PngImagePlugin.PngImageFile image mode=L size=28x28>"
            ],
            "image/png": "[encoded data removed]",
            "image/jpeg": "[encoded data removed]"
          },
          "metadata": {},
          "execution_count": 5
        }
      ]
    },
    {
      "cell_type": "code",
      "source": [
        "array(im3)[5:12,5:12]"
      ],
      "metadata": {
        "colab": {
          "base_uri": "https://localhost:8080/"
        },
        "id": "_djeKFQwdycZ",
        "outputId": "00bb8d34-fff1-4431-d7b2-3b9191e379a9"
      },
      "execution_count": null,
      "outputs": [
        {
          "output_type": "execute_result",
          "data": {
            "text/plain": [
              "array([[  0,   0,   0,   0,  29, 150, 195],\n",
              "       [  0,   0,  48, 166, 224, 253, 253],\n",
              "       [ 93, 244, 249, 253, 187,  46,  10],\n",
              "       [107, 253, 253, 230,  48,   0,   0],\n",
              "       [  3,  20,  20,  15,   0,   0,   0],\n",
              "       [  0,   0,   0,   0,   0,   0,   0],\n",
              "       [  0,   0,   0,   0,   0,   0,  14]], dtype=uint8)"
            ]
          },
          "metadata": {},
          "execution_count": 6
        }
      ]
    },
    {
      "cell_type": "code",
      "source": [
        "im3_t = tensor(im3)\n",
        "df = pd.DataFrame(im3_t[4:15,4:22])\n",
        "df.style.background_gradient(axis=0, cmap='YlOrRd')"
      ],
      "metadata": {
        "colab": {
          "base_uri": "https://localhost:8080/",
          "height": 394
        },
        "id": "j8DFBYiBhpVN",
        "outputId": "5b393c4d-b442-49a5-a433-09dfff5aed93"
      },
      "execution_count": null,
      "outputs": [
        {
          "output_type": "execute_result",
          "data": {
            "text/plain": [
              "<pandas.io.formats.style.Styler at 0x7e70e4237e50>"
            ],
            "text/html": [
              "<style type=\"text/css\">\n",
              "#T_fe0be_row0_col0, #T_fe0be_row0_col1, #T_fe0be_row0_col2, #T_fe0be_row0_col3, #T_fe0be_row0_col4, #T_fe0be_row0_col5, #T_fe0be_row0_col6, #T_fe0be_row0_col7, #T_fe0be_row0_col8, #T_fe0be_row0_col9, #T_fe0be_row0_col10, #T_fe0be_row0_col11, #T_fe0be_row0_col12, #T_fe0be_row0_col13, #T_fe0be_row0_col14, #T_fe0be_row0_col15, #T_fe0be_row0_col16, #T_fe0be_row0_col17, #T_fe0be_row1_col0, #T_fe0be_row1_col1, #T_fe0be_row1_col2, #T_fe0be_row1_col3, #T_fe0be_row1_col4, #T_fe0be_row1_col15, #T_fe0be_row1_col16, #T_fe0be_row1_col17, #T_fe0be_row2_col0, #T_fe0be_row2_col1, #T_fe0be_row2_col2, #T_fe0be_row2_col15, #T_fe0be_row2_col16, #T_fe0be_row2_col17, #T_fe0be_row3_col0, #T_fe0be_row3_col15, #T_fe0be_row3_col16, #T_fe0be_row3_col17, #T_fe0be_row4_col0, #T_fe0be_row4_col6, #T_fe0be_row4_col7, #T_fe0be_row4_col8, #T_fe0be_row4_col9, #T_fe0be_row4_col10, #T_fe0be_row4_col15, #T_fe0be_row4_col16, #T_fe0be_row4_col17, #T_fe0be_row5_col0, #T_fe0be_row5_col5, #T_fe0be_row5_col6, #T_fe0be_row5_col7, #T_fe0be_row5_col8, #T_fe0be_row5_col9, #T_fe0be_row5_col15, #T_fe0be_row5_col16, #T_fe0be_row5_col17, #T_fe0be_row6_col0, #T_fe0be_row6_col1, #T_fe0be_row6_col2, #T_fe0be_row6_col3, #T_fe0be_row6_col4, #T_fe0be_row6_col5, #T_fe0be_row6_col6, #T_fe0be_row6_col7, #T_fe0be_row6_col8, #T_fe0be_row6_col9, #T_fe0be_row6_col14, #T_fe0be_row6_col15, #T_fe0be_row6_col16, #T_fe0be_row6_col17, #T_fe0be_row7_col0, #T_fe0be_row7_col1, #T_fe0be_row7_col2, #T_fe0be_row7_col3, #T_fe0be_row7_col4, #T_fe0be_row7_col5, #T_fe0be_row7_col6, #T_fe0be_row7_col13, #T_fe0be_row7_col14, #T_fe0be_row7_col15, #T_fe0be_row7_col16, #T_fe0be_row7_col17, #T_fe0be_row8_col0, #T_fe0be_row8_col1, #T_fe0be_row8_col2, #T_fe0be_row8_col3, #T_fe0be_row8_col4, #T_fe0be_row8_col13, #T_fe0be_row8_col14, #T_fe0be_row8_col15, #T_fe0be_row8_col16, #T_fe0be_row8_col17, #T_fe0be_row9_col0, #T_fe0be_row9_col1, #T_fe0be_row9_col2, #T_fe0be_row9_col3, #T_fe0be_row9_col4, #T_fe0be_row9_col16, #T_fe0be_row9_col17, #T_fe0be_row10_col0, #T_fe0be_row10_col1, #T_fe0be_row10_col2, #T_fe0be_row10_col3, #T_fe0be_row10_col4, #T_fe0be_row10_col5, #T_fe0be_row10_col6, #T_fe0be_row10_col17 {\n",
              "  background-color: #ffffcc;\n",
              "  color: #000000;\n",
              "}\n",
              "#T_fe0be_row1_col5 {\n",
              "  background-color: #ffec9f;\n",
              "  color: #000000;\n",
              "}\n",
              "#T_fe0be_row1_col6, #T_fe0be_row1_col13 {\n",
              "  background-color: #fc5f2f;\n",
              "  color: #f1f1f1;\n",
              "}\n",
              "#T_fe0be_row1_col7 {\n",
              "  background-color: #dc151e;\n",
              "  color: #f1f1f1;\n",
              "}\n",
              "#T_fe0be_row1_col8, #T_fe0be_row1_col9, #T_fe0be_row1_col10, #T_fe0be_row2_col5, #T_fe0be_row2_col6, #T_fe0be_row2_col7, #T_fe0be_row2_col11, #T_fe0be_row2_col12, #T_fe0be_row2_col13, #T_fe0be_row3_col4, #T_fe0be_row3_col12, #T_fe0be_row3_col13, #T_fe0be_row4_col1, #T_fe0be_row4_col2, #T_fe0be_row4_col3, #T_fe0be_row4_col12, #T_fe0be_row4_col13, #T_fe0be_row5_col12, #T_fe0be_row6_col11, #T_fe0be_row9_col11, #T_fe0be_row10_col11, #T_fe0be_row10_col12, #T_fe0be_row10_col13, #T_fe0be_row10_col14, #T_fe0be_row10_col15, #T_fe0be_row10_col16 {\n",
              "  background-color: #800026;\n",
              "  color: #f1f1f1;\n",
              "}\n",
              "#T_fe0be_row1_col11 {\n",
              "  background-color: #ed3022;\n",
              "  color: #f1f1f1;\n",
              "}\n",
              "#T_fe0be_row1_col12 {\n",
              "  background-color: #df171d;\n",
              "  color: #f1f1f1;\n",
              "}\n",
              "#T_fe0be_row1_col14 {\n",
              "  background-color: #feb04b;\n",
              "  color: #000000;\n",
              "}\n",
              "#T_fe0be_row2_col3 {\n",
              "  background-color: #fee38b;\n",
              "  color: #000000;\n",
              "}\n",
              "#T_fe0be_row2_col4, #T_fe0be_row8_col6 {\n",
              "  background-color: #f64227;\n",
              "  color: #f1f1f1;\n",
              "}\n",
              "#T_fe0be_row2_col8, #T_fe0be_row2_col14, #T_fe0be_row3_col14 {\n",
              "  background-color: #a60026;\n",
              "  color: #f1f1f1;\n",
              "}\n",
              "#T_fe0be_row2_col9, #T_fe0be_row3_col11 {\n",
              "  background-color: #dd161d;\n",
              "  color: #f1f1f1;\n",
              "}\n",
              "#T_fe0be_row2_col10, #T_fe0be_row7_col10, #T_fe0be_row8_col8, #T_fe0be_row8_col10, #T_fe0be_row9_col8, #T_fe0be_row9_col10 {\n",
              "  background-color: #820026;\n",
              "  color: #f1f1f1;\n",
              "}\n",
              "#T_fe0be_row3_col1 {\n",
              "  background-color: #be0126;\n",
              "  color: #f1f1f1;\n",
              "}\n",
              "#T_fe0be_row3_col2 {\n",
              "  background-color: #910026;\n",
              "  color: #f1f1f1;\n",
              "}\n",
              "#T_fe0be_row3_col3 {\n",
              "  background-color: #880026;\n",
              "  color: #f1f1f1;\n",
              "}\n",
              "#T_fe0be_row3_col5 {\n",
              "  background-color: #c90823;\n",
              "  color: #f1f1f1;\n",
              "}\n",
              "#T_fe0be_row3_col6 {\n",
              "  background-color: #ffe48d;\n",
              "  color: #000000;\n",
              "}\n",
              "#T_fe0be_row3_col7, #T_fe0be_row3_col10 {\n",
              "  background-color: #fff9be;\n",
              "  color: #000000;\n",
              "}\n",
              "#T_fe0be_row3_col8 {\n",
              "  background-color: #fffac1;\n",
              "  color: #000000;\n",
              "}\n",
              "#T_fe0be_row3_col9 {\n",
              "  background-color: #fffdc6;\n",
              "  color: #000000;\n",
              "}\n",
              "#T_fe0be_row4_col4 {\n",
              "  background-color: #ac0026;\n",
              "  color: #f1f1f1;\n",
              "}\n",
              "#T_fe0be_row4_col5 {\n",
              "  background-color: #fedf83;\n",
              "  color: #000000;\n",
              "}\n",
              "#T_fe0be_row4_col11 {\n",
              "  background-color: #e0181d;\n",
              "  color: #f1f1f1;\n",
              "}\n",
              "#T_fe0be_row4_col14 {\n",
              "  background-color: #fc532b;\n",
              "  color: #f1f1f1;\n",
              "}\n",
              "#T_fe0be_row5_col1 {\n",
              "  background-color: #fffbc2;\n",
              "  color: #000000;\n",
              "}\n",
              "#T_fe0be_row5_col2, #T_fe0be_row5_col3 {\n",
              "  background-color: #fff4b0;\n",
              "  color: #000000;\n",
              "}\n",
              "#T_fe0be_row5_col4 {\n",
              "  background-color: #fff7b7;\n",
              "  color: #000000;\n",
              "}\n",
              "#T_fe0be_row5_col10, #T_fe0be_row10_col7 {\n",
              "  background-color: #ffe691;\n",
              "  color: #000000;\n",
              "}\n",
              "#T_fe0be_row5_col11 {\n",
              "  background-color: #b70026;\n",
              "  color: #f1f1f1;\n",
              "}\n",
              "#T_fe0be_row5_col13, #T_fe0be_row6_col12 {\n",
              "  background-color: #8f0026;\n",
              "  color: #f1f1f1;\n",
              "}\n",
              "#T_fe0be_row5_col14 {\n",
              "  background-color: #fecc68;\n",
              "  color: #000000;\n",
              "}\n",
              "#T_fe0be_row6_col10, #T_fe0be_row7_col11, #T_fe0be_row9_col6 {\n",
              "  background-color: #8a0026;\n",
              "  color: #f1f1f1;\n",
              "}\n",
              "#T_fe0be_row6_col13 {\n",
              "  background-color: #fd8e3c;\n",
              "  color: #f1f1f1;\n",
              "}\n",
              "#T_fe0be_row7_col7 {\n",
              "  background-color: #fff7b9;\n",
              "  color: #000000;\n",
              "}\n",
              "#T_fe0be_row7_col8 {\n",
              "  background-color: #feac49;\n",
              "  color: #000000;\n",
              "}\n",
              "#T_fe0be_row7_col9 {\n",
              "  background-color: #bd0026;\n",
              "  color: #f1f1f1;\n",
              "}\n",
              "#T_fe0be_row7_col12 {\n",
              "  background-color: #fd903d;\n",
              "  color: #000000;\n",
              "}\n",
              "#T_fe0be_row8_col5 {\n",
              "  background-color: #fff8bb;\n",
              "  color: #000000;\n",
              "}\n",
              "#T_fe0be_row8_col7 {\n",
              "  background-color: #9b0026;\n",
              "  color: #f1f1f1;\n",
              "}\n",
              "#T_fe0be_row8_col9, #T_fe0be_row9_col9 {\n",
              "  background-color: #840026;\n",
              "  color: #f1f1f1;\n",
              "}\n",
              "#T_fe0be_row8_col11 {\n",
              "  background-color: #e51e1d;\n",
              "  color: #f1f1f1;\n",
              "}\n",
              "#T_fe0be_row8_col12 {\n",
              "  background-color: #ffeea3;\n",
              "  color: #000000;\n",
              "}\n",
              "#T_fe0be_row9_col5 {\n",
              "  background-color: #fff5b3;\n",
              "  color: #000000;\n",
              "}\n",
              "#T_fe0be_row9_col7 {\n",
              "  background-color: #860026;\n",
              "  color: #f1f1f1;\n",
              "}\n",
              "#T_fe0be_row9_col12 {\n",
              "  background-color: #a80026;\n",
              "  color: #f1f1f1;\n",
              "}\n",
              "#T_fe0be_row9_col13 {\n",
              "  background-color: #c70723;\n",
              "  color: #f1f1f1;\n",
              "}\n",
              "#T_fe0be_row9_col14 {\n",
              "  background-color: #fd9f44;\n",
              "  color: #000000;\n",
              "}\n",
              "#T_fe0be_row9_col15 {\n",
              "  background-color: #fffec9;\n",
              "  color: #000000;\n",
              "}\n",
              "#T_fe0be_row10_col8, #T_fe0be_row10_col9 {\n",
              "  background-color: #feaf4b;\n",
              "  color: #000000;\n",
              "}\n",
              "#T_fe0be_row10_col10 {\n",
              "  background-color: #ce0c22;\n",
              "  color: #f1f1f1;\n",
              "}\n",
              "</style>\n",
              "<table id=\"T_fe0be\" class=\"dataframe\">\n",
              "  <thead>\n",
              "    <tr>\n",
              "      <th class=\"blank level0\" >&nbsp;</th>\n",
              "      <th id=\"T_fe0be_level0_col0\" class=\"col_heading level0 col0\" >0</th>\n",
              "      <th id=\"T_fe0be_level0_col1\" class=\"col_heading level0 col1\" >1</th>\n",
              "      <th id=\"T_fe0be_level0_col2\" class=\"col_heading level0 col2\" >2</th>\n",
              "      <th id=\"T_fe0be_level0_col3\" class=\"col_heading level0 col3\" >3</th>\n",
              "      <th id=\"T_fe0be_level0_col4\" class=\"col_heading level0 col4\" >4</th>\n",
              "      <th id=\"T_fe0be_level0_col5\" class=\"col_heading level0 col5\" >5</th>\n",
              "      <th id=\"T_fe0be_level0_col6\" class=\"col_heading level0 col6\" >6</th>\n",
              "      <th id=\"T_fe0be_level0_col7\" class=\"col_heading level0 col7\" >7</th>\n",
              "      <th id=\"T_fe0be_level0_col8\" class=\"col_heading level0 col8\" >8</th>\n",
              "      <th id=\"T_fe0be_level0_col9\" class=\"col_heading level0 col9\" >9</th>\n",
              "      <th id=\"T_fe0be_level0_col10\" class=\"col_heading level0 col10\" >10</th>\n",
              "      <th id=\"T_fe0be_level0_col11\" class=\"col_heading level0 col11\" >11</th>\n",
              "      <th id=\"T_fe0be_level0_col12\" class=\"col_heading level0 col12\" >12</th>\n",
              "      <th id=\"T_fe0be_level0_col13\" class=\"col_heading level0 col13\" >13</th>\n",
              "      <th id=\"T_fe0be_level0_col14\" class=\"col_heading level0 col14\" >14</th>\n",
              "      <th id=\"T_fe0be_level0_col15\" class=\"col_heading level0 col15\" >15</th>\n",
              "      <th id=\"T_fe0be_level0_col16\" class=\"col_heading level0 col16\" >16</th>\n",
              "      <th id=\"T_fe0be_level0_col17\" class=\"col_heading level0 col17\" >17</th>\n",
              "    </tr>\n",
              "  </thead>\n",
              "  <tbody>\n",
              "    <tr>\n",
              "      <th id=\"T_fe0be_level0_row0\" class=\"row_heading level0 row0\" >0</th>\n",
              "      <td id=\"T_fe0be_row0_col0\" class=\"data row0 col0\" >0</td>\n",
              "      <td id=\"T_fe0be_row0_col1\" class=\"data row0 col1\" >0</td>\n",
              "      <td id=\"T_fe0be_row0_col2\" class=\"data row0 col2\" >0</td>\n",
              "      <td id=\"T_fe0be_row0_col3\" class=\"data row0 col3\" >0</td>\n",
              "      <td id=\"T_fe0be_row0_col4\" class=\"data row0 col4\" >0</td>\n",
              "      <td id=\"T_fe0be_row0_col5\" class=\"data row0 col5\" >0</td>\n",
              "      <td id=\"T_fe0be_row0_col6\" class=\"data row0 col6\" >0</td>\n",
              "      <td id=\"T_fe0be_row0_col7\" class=\"data row0 col7\" >0</td>\n",
              "      <td id=\"T_fe0be_row0_col8\" class=\"data row0 col8\" >0</td>\n",
              "      <td id=\"T_fe0be_row0_col9\" class=\"data row0 col9\" >0</td>\n",
              "      <td id=\"T_fe0be_row0_col10\" class=\"data row0 col10\" >0</td>\n",
              "      <td id=\"T_fe0be_row0_col11\" class=\"data row0 col11\" >0</td>\n",
              "      <td id=\"T_fe0be_row0_col12\" class=\"data row0 col12\" >0</td>\n",
              "      <td id=\"T_fe0be_row0_col13\" class=\"data row0 col13\" >0</td>\n",
              "      <td id=\"T_fe0be_row0_col14\" class=\"data row0 col14\" >0</td>\n",
              "      <td id=\"T_fe0be_row0_col15\" class=\"data row0 col15\" >0</td>\n",
              "      <td id=\"T_fe0be_row0_col16\" class=\"data row0 col16\" >0</td>\n",
              "      <td id=\"T_fe0be_row0_col17\" class=\"data row0 col17\" >0</td>\n",
              "    </tr>\n",
              "    <tr>\n",
              "      <th id=\"T_fe0be_level0_row1\" class=\"row_heading level0 row1\" >1</th>\n",
              "      <td id=\"T_fe0be_row1_col0\" class=\"data row1 col0\" >0</td>\n",
              "      <td id=\"T_fe0be_row1_col1\" class=\"data row1 col1\" >0</td>\n",
              "      <td id=\"T_fe0be_row1_col2\" class=\"data row1 col2\" >0</td>\n",
              "      <td id=\"T_fe0be_row1_col3\" class=\"data row1 col3\" >0</td>\n",
              "      <td id=\"T_fe0be_row1_col4\" class=\"data row1 col4\" >0</td>\n",
              "      <td id=\"T_fe0be_row1_col5\" class=\"data row1 col5\" >29</td>\n",
              "      <td id=\"T_fe0be_row1_col6\" class=\"data row1 col6\" >150</td>\n",
              "      <td id=\"T_fe0be_row1_col7\" class=\"data row1 col7\" >195</td>\n",
              "      <td id=\"T_fe0be_row1_col8\" class=\"data row1 col8\" >254</td>\n",
              "      <td id=\"T_fe0be_row1_col9\" class=\"data row1 col9\" >255</td>\n",
              "      <td id=\"T_fe0be_row1_col10\" class=\"data row1 col10\" >254</td>\n",
              "      <td id=\"T_fe0be_row1_col11\" class=\"data row1 col11\" >176</td>\n",
              "      <td id=\"T_fe0be_row1_col12\" class=\"data row1 col12\" >193</td>\n",
              "      <td id=\"T_fe0be_row1_col13\" class=\"data row1 col13\" >150</td>\n",
              "      <td id=\"T_fe0be_row1_col14\" class=\"data row1 col14\" >96</td>\n",
              "      <td id=\"T_fe0be_row1_col15\" class=\"data row1 col15\" >0</td>\n",
              "      <td id=\"T_fe0be_row1_col16\" class=\"data row1 col16\" >0</td>\n",
              "      <td id=\"T_fe0be_row1_col17\" class=\"data row1 col17\" >0</td>\n",
              "    </tr>\n",
              "    <tr>\n",
              "      <th id=\"T_fe0be_level0_row2\" class=\"row_heading level0 row2\" >2</th>\n",
              "      <td id=\"T_fe0be_row2_col0\" class=\"data row2 col0\" >0</td>\n",
              "      <td id=\"T_fe0be_row2_col1\" class=\"data row2 col1\" >0</td>\n",
              "      <td id=\"T_fe0be_row2_col2\" class=\"data row2 col2\" >0</td>\n",
              "      <td id=\"T_fe0be_row2_col3\" class=\"data row2 col3\" >48</td>\n",
              "      <td id=\"T_fe0be_row2_col4\" class=\"data row2 col4\" >166</td>\n",
              "      <td id=\"T_fe0be_row2_col5\" class=\"data row2 col5\" >224</td>\n",
              "      <td id=\"T_fe0be_row2_col6\" class=\"data row2 col6\" >253</td>\n",
              "      <td id=\"T_fe0be_row2_col7\" class=\"data row2 col7\" >253</td>\n",
              "      <td id=\"T_fe0be_row2_col8\" class=\"data row2 col8\" >234</td>\n",
              "      <td id=\"T_fe0be_row2_col9\" class=\"data row2 col9\" >196</td>\n",
              "      <td id=\"T_fe0be_row2_col10\" class=\"data row2 col10\" >253</td>\n",
              "      <td id=\"T_fe0be_row2_col11\" class=\"data row2 col11\" >253</td>\n",
              "      <td id=\"T_fe0be_row2_col12\" class=\"data row2 col12\" >253</td>\n",
              "      <td id=\"T_fe0be_row2_col13\" class=\"data row2 col13\" >253</td>\n",
              "      <td id=\"T_fe0be_row2_col14\" class=\"data row2 col14\" >233</td>\n",
              "      <td id=\"T_fe0be_row2_col15\" class=\"data row2 col15\" >0</td>\n",
              "      <td id=\"T_fe0be_row2_col16\" class=\"data row2 col16\" >0</td>\n",
              "      <td id=\"T_fe0be_row2_col17\" class=\"data row2 col17\" >0</td>\n",
              "    </tr>\n",
              "    <tr>\n",
              "      <th id=\"T_fe0be_level0_row3\" class=\"row_heading level0 row3\" >3</th>\n",
              "      <td id=\"T_fe0be_row3_col0\" class=\"data row3 col0\" >0</td>\n",
              "      <td id=\"T_fe0be_row3_col1\" class=\"data row3 col1\" >93</td>\n",
              "      <td id=\"T_fe0be_row3_col2\" class=\"data row3 col2\" >244</td>\n",
              "      <td id=\"T_fe0be_row3_col3\" class=\"data row3 col3\" >249</td>\n",
              "      <td id=\"T_fe0be_row3_col4\" class=\"data row3 col4\" >253</td>\n",
              "      <td id=\"T_fe0be_row3_col5\" class=\"data row3 col5\" >187</td>\n",
              "      <td id=\"T_fe0be_row3_col6\" class=\"data row3 col6\" >46</td>\n",
              "      <td id=\"T_fe0be_row3_col7\" class=\"data row3 col7\" >10</td>\n",
              "      <td id=\"T_fe0be_row3_col8\" class=\"data row3 col8\" >8</td>\n",
              "      <td id=\"T_fe0be_row3_col9\" class=\"data row3 col9\" >4</td>\n",
              "      <td id=\"T_fe0be_row3_col10\" class=\"data row3 col10\" >10</td>\n",
              "      <td id=\"T_fe0be_row3_col11\" class=\"data row3 col11\" >194</td>\n",
              "      <td id=\"T_fe0be_row3_col12\" class=\"data row3 col12\" >253</td>\n",
              "      <td id=\"T_fe0be_row3_col13\" class=\"data row3 col13\" >253</td>\n",
              "      <td id=\"T_fe0be_row3_col14\" class=\"data row3 col14\" >233</td>\n",
              "      <td id=\"T_fe0be_row3_col15\" class=\"data row3 col15\" >0</td>\n",
              "      <td id=\"T_fe0be_row3_col16\" class=\"data row3 col16\" >0</td>\n",
              "      <td id=\"T_fe0be_row3_col17\" class=\"data row3 col17\" >0</td>\n",
              "    </tr>\n",
              "    <tr>\n",
              "      <th id=\"T_fe0be_level0_row4\" class=\"row_heading level0 row4\" >4</th>\n",
              "      <td id=\"T_fe0be_row4_col0\" class=\"data row4 col0\" >0</td>\n",
              "      <td id=\"T_fe0be_row4_col1\" class=\"data row4 col1\" >107</td>\n",
              "      <td id=\"T_fe0be_row4_col2\" class=\"data row4 col2\" >253</td>\n",
              "      <td id=\"T_fe0be_row4_col3\" class=\"data row4 col3\" >253</td>\n",
              "      <td id=\"T_fe0be_row4_col4\" class=\"data row4 col4\" >230</td>\n",
              "      <td id=\"T_fe0be_row4_col5\" class=\"data row4 col5\" >48</td>\n",
              "      <td id=\"T_fe0be_row4_col6\" class=\"data row4 col6\" >0</td>\n",
              "      <td id=\"T_fe0be_row4_col7\" class=\"data row4 col7\" >0</td>\n",
              "      <td id=\"T_fe0be_row4_col8\" class=\"data row4 col8\" >0</td>\n",
              "      <td id=\"T_fe0be_row4_col9\" class=\"data row4 col9\" >0</td>\n",
              "      <td id=\"T_fe0be_row4_col10\" class=\"data row4 col10\" >0</td>\n",
              "      <td id=\"T_fe0be_row4_col11\" class=\"data row4 col11\" >192</td>\n",
              "      <td id=\"T_fe0be_row4_col12\" class=\"data row4 col12\" >253</td>\n",
              "      <td id=\"T_fe0be_row4_col13\" class=\"data row4 col13\" >253</td>\n",
              "      <td id=\"T_fe0be_row4_col14\" class=\"data row4 col14\" >156</td>\n",
              "      <td id=\"T_fe0be_row4_col15\" class=\"data row4 col15\" >0</td>\n",
              "      <td id=\"T_fe0be_row4_col16\" class=\"data row4 col16\" >0</td>\n",
              "      <td id=\"T_fe0be_row4_col17\" class=\"data row4 col17\" >0</td>\n",
              "    </tr>\n",
              "    <tr>\n",
              "      <th id=\"T_fe0be_level0_row5\" class=\"row_heading level0 row5\" >5</th>\n",
              "      <td id=\"T_fe0be_row5_col0\" class=\"data row5 col0\" >0</td>\n",
              "      <td id=\"T_fe0be_row5_col1\" class=\"data row5 col1\" >3</td>\n",
              "      <td id=\"T_fe0be_row5_col2\" class=\"data row5 col2\" >20</td>\n",
              "      <td id=\"T_fe0be_row5_col3\" class=\"data row5 col3\" >20</td>\n",
              "      <td id=\"T_fe0be_row5_col4\" class=\"data row5 col4\" >15</td>\n",
              "      <td id=\"T_fe0be_row5_col5\" class=\"data row5 col5\" >0</td>\n",
              "      <td id=\"T_fe0be_row5_col6\" class=\"data row5 col6\" >0</td>\n",
              "      <td id=\"T_fe0be_row5_col7\" class=\"data row5 col7\" >0</td>\n",
              "      <td id=\"T_fe0be_row5_col8\" class=\"data row5 col8\" >0</td>\n",
              "      <td id=\"T_fe0be_row5_col9\" class=\"data row5 col9\" >0</td>\n",
              "      <td id=\"T_fe0be_row5_col10\" class=\"data row5 col10\" >43</td>\n",
              "      <td id=\"T_fe0be_row5_col11\" class=\"data row5 col11\" >224</td>\n",
              "      <td id=\"T_fe0be_row5_col12\" class=\"data row5 col12\" >253</td>\n",
              "      <td id=\"T_fe0be_row5_col13\" class=\"data row5 col13\" >245</td>\n",
              "      <td id=\"T_fe0be_row5_col14\" class=\"data row5 col14\" >74</td>\n",
              "      <td id=\"T_fe0be_row5_col15\" class=\"data row5 col15\" >0</td>\n",
              "      <td id=\"T_fe0be_row5_col16\" class=\"data row5 col16\" >0</td>\n",
              "      <td id=\"T_fe0be_row5_col17\" class=\"data row5 col17\" >0</td>\n",
              "    </tr>\n",
              "    <tr>\n",
              "      <th id=\"T_fe0be_level0_row6\" class=\"row_heading level0 row6\" >6</th>\n",
              "      <td id=\"T_fe0be_row6_col0\" class=\"data row6 col0\" >0</td>\n",
              "      <td id=\"T_fe0be_row6_col1\" class=\"data row6 col1\" >0</td>\n",
              "      <td id=\"T_fe0be_row6_col2\" class=\"data row6 col2\" >0</td>\n",
              "      <td id=\"T_fe0be_row6_col3\" class=\"data row6 col3\" >0</td>\n",
              "      <td id=\"T_fe0be_row6_col4\" class=\"data row6 col4\" >0</td>\n",
              "      <td id=\"T_fe0be_row6_col5\" class=\"data row6 col5\" >0</td>\n",
              "      <td id=\"T_fe0be_row6_col6\" class=\"data row6 col6\" >0</td>\n",
              "      <td id=\"T_fe0be_row6_col7\" class=\"data row6 col7\" >0</td>\n",
              "      <td id=\"T_fe0be_row6_col8\" class=\"data row6 col8\" >0</td>\n",
              "      <td id=\"T_fe0be_row6_col9\" class=\"data row6 col9\" >0</td>\n",
              "      <td id=\"T_fe0be_row6_col10\" class=\"data row6 col10\" >249</td>\n",
              "      <td id=\"T_fe0be_row6_col11\" class=\"data row6 col11\" >253</td>\n",
              "      <td id=\"T_fe0be_row6_col12\" class=\"data row6 col12\" >245</td>\n",
              "      <td id=\"T_fe0be_row6_col13\" class=\"data row6 col13\" >126</td>\n",
              "      <td id=\"T_fe0be_row6_col14\" class=\"data row6 col14\" >0</td>\n",
              "      <td id=\"T_fe0be_row6_col15\" class=\"data row6 col15\" >0</td>\n",
              "      <td id=\"T_fe0be_row6_col16\" class=\"data row6 col16\" >0</td>\n",
              "      <td id=\"T_fe0be_row6_col17\" class=\"data row6 col17\" >0</td>\n",
              "    </tr>\n",
              "    <tr>\n",
              "      <th id=\"T_fe0be_level0_row7\" class=\"row_heading level0 row7\" >7</th>\n",
              "      <td id=\"T_fe0be_row7_col0\" class=\"data row7 col0\" >0</td>\n",
              "      <td id=\"T_fe0be_row7_col1\" class=\"data row7 col1\" >0</td>\n",
              "      <td id=\"T_fe0be_row7_col2\" class=\"data row7 col2\" >0</td>\n",
              "      <td id=\"T_fe0be_row7_col3\" class=\"data row7 col3\" >0</td>\n",
              "      <td id=\"T_fe0be_row7_col4\" class=\"data row7 col4\" >0</td>\n",
              "      <td id=\"T_fe0be_row7_col5\" class=\"data row7 col5\" >0</td>\n",
              "      <td id=\"T_fe0be_row7_col6\" class=\"data row7 col6\" >0</td>\n",
              "      <td id=\"T_fe0be_row7_col7\" class=\"data row7 col7\" >14</td>\n",
              "      <td id=\"T_fe0be_row7_col8\" class=\"data row7 col8\" >101</td>\n",
              "      <td id=\"T_fe0be_row7_col9\" class=\"data row7 col9\" >223</td>\n",
              "      <td id=\"T_fe0be_row7_col10\" class=\"data row7 col10\" >253</td>\n",
              "      <td id=\"T_fe0be_row7_col11\" class=\"data row7 col11\" >248</td>\n",
              "      <td id=\"T_fe0be_row7_col12\" class=\"data row7 col12\" >124</td>\n",
              "      <td id=\"T_fe0be_row7_col13\" class=\"data row7 col13\" >0</td>\n",
              "      <td id=\"T_fe0be_row7_col14\" class=\"data row7 col14\" >0</td>\n",
              "      <td id=\"T_fe0be_row7_col15\" class=\"data row7 col15\" >0</td>\n",
              "      <td id=\"T_fe0be_row7_col16\" class=\"data row7 col16\" >0</td>\n",
              "      <td id=\"T_fe0be_row7_col17\" class=\"data row7 col17\" >0</td>\n",
              "    </tr>\n",
              "    <tr>\n",
              "      <th id=\"T_fe0be_level0_row8\" class=\"row_heading level0 row8\" >8</th>\n",
              "      <td id=\"T_fe0be_row8_col0\" class=\"data row8 col0\" >0</td>\n",
              "      <td id=\"T_fe0be_row8_col1\" class=\"data row8 col1\" >0</td>\n",
              "      <td id=\"T_fe0be_row8_col2\" class=\"data row8 col2\" >0</td>\n",
              "      <td id=\"T_fe0be_row8_col3\" class=\"data row8 col3\" >0</td>\n",
              "      <td id=\"T_fe0be_row8_col4\" class=\"data row8 col4\" >0</td>\n",
              "      <td id=\"T_fe0be_row8_col5\" class=\"data row8 col5\" >11</td>\n",
              "      <td id=\"T_fe0be_row8_col6\" class=\"data row8 col6\" >166</td>\n",
              "      <td id=\"T_fe0be_row8_col7\" class=\"data row8 col7\" >239</td>\n",
              "      <td id=\"T_fe0be_row8_col8\" class=\"data row8 col8\" >253</td>\n",
              "      <td id=\"T_fe0be_row8_col9\" class=\"data row8 col9\" >253</td>\n",
              "      <td id=\"T_fe0be_row8_col10\" class=\"data row8 col10\" >253</td>\n",
              "      <td id=\"T_fe0be_row8_col11\" class=\"data row8 col11\" >187</td>\n",
              "      <td id=\"T_fe0be_row8_col12\" class=\"data row8 col12\" >30</td>\n",
              "      <td id=\"T_fe0be_row8_col13\" class=\"data row8 col13\" >0</td>\n",
              "      <td id=\"T_fe0be_row8_col14\" class=\"data row8 col14\" >0</td>\n",
              "      <td id=\"T_fe0be_row8_col15\" class=\"data row8 col15\" >0</td>\n",
              "      <td id=\"T_fe0be_row8_col16\" class=\"data row8 col16\" >0</td>\n",
              "      <td id=\"T_fe0be_row8_col17\" class=\"data row8 col17\" >0</td>\n",
              "    </tr>\n",
              "    <tr>\n",
              "      <th id=\"T_fe0be_level0_row9\" class=\"row_heading level0 row9\" >9</th>\n",
              "      <td id=\"T_fe0be_row9_col0\" class=\"data row9 col0\" >0</td>\n",
              "      <td id=\"T_fe0be_row9_col1\" class=\"data row9 col1\" >0</td>\n",
              "      <td id=\"T_fe0be_row9_col2\" class=\"data row9 col2\" >0</td>\n",
              "      <td id=\"T_fe0be_row9_col3\" class=\"data row9 col3\" >0</td>\n",
              "      <td id=\"T_fe0be_row9_col4\" class=\"data row9 col4\" >0</td>\n",
              "      <td id=\"T_fe0be_row9_col5\" class=\"data row9 col5\" >16</td>\n",
              "      <td id=\"T_fe0be_row9_col6\" class=\"data row9 col6\" >248</td>\n",
              "      <td id=\"T_fe0be_row9_col7\" class=\"data row9 col7\" >250</td>\n",
              "      <td id=\"T_fe0be_row9_col8\" class=\"data row9 col8\" >253</td>\n",
              "      <td id=\"T_fe0be_row9_col9\" class=\"data row9 col9\" >253</td>\n",
              "      <td id=\"T_fe0be_row9_col10\" class=\"data row9 col10\" >253</td>\n",
              "      <td id=\"T_fe0be_row9_col11\" class=\"data row9 col11\" >253</td>\n",
              "      <td id=\"T_fe0be_row9_col12\" class=\"data row9 col12\" >232</td>\n",
              "      <td id=\"T_fe0be_row9_col13\" class=\"data row9 col13\" >213</td>\n",
              "      <td id=\"T_fe0be_row9_col14\" class=\"data row9 col14\" >111</td>\n",
              "      <td id=\"T_fe0be_row9_col15\" class=\"data row9 col15\" >2</td>\n",
              "      <td id=\"T_fe0be_row9_col16\" class=\"data row9 col16\" >0</td>\n",
              "      <td id=\"T_fe0be_row9_col17\" class=\"data row9 col17\" >0</td>\n",
              "    </tr>\n",
              "    <tr>\n",
              "      <th id=\"T_fe0be_level0_row10\" class=\"row_heading level0 row10\" >10</th>\n",
              "      <td id=\"T_fe0be_row10_col0\" class=\"data row10 col0\" >0</td>\n",
              "      <td id=\"T_fe0be_row10_col1\" class=\"data row10 col1\" >0</td>\n",
              "      <td id=\"T_fe0be_row10_col2\" class=\"data row10 col2\" >0</td>\n",
              "      <td id=\"T_fe0be_row10_col3\" class=\"data row10 col3\" >0</td>\n",
              "      <td id=\"T_fe0be_row10_col4\" class=\"data row10 col4\" >0</td>\n",
              "      <td id=\"T_fe0be_row10_col5\" class=\"data row10 col5\" >0</td>\n",
              "      <td id=\"T_fe0be_row10_col6\" class=\"data row10 col6\" >0</td>\n",
              "      <td id=\"T_fe0be_row10_col7\" class=\"data row10 col7\" >43</td>\n",
              "      <td id=\"T_fe0be_row10_col8\" class=\"data row10 col8\" >98</td>\n",
              "      <td id=\"T_fe0be_row10_col9\" class=\"data row10 col9\" >98</td>\n",
              "      <td id=\"T_fe0be_row10_col10\" class=\"data row10 col10\" >208</td>\n",
              "      <td id=\"T_fe0be_row10_col11\" class=\"data row10 col11\" >253</td>\n",
              "      <td id=\"T_fe0be_row10_col12\" class=\"data row10 col12\" >253</td>\n",
              "      <td id=\"T_fe0be_row10_col13\" class=\"data row10 col13\" >253</td>\n",
              "      <td id=\"T_fe0be_row10_col14\" class=\"data row10 col14\" >253</td>\n",
              "      <td id=\"T_fe0be_row10_col15\" class=\"data row10 col15\" >187</td>\n",
              "      <td id=\"T_fe0be_row10_col16\" class=\"data row10 col16\" >22</td>\n",
              "      <td id=\"T_fe0be_row10_col17\" class=\"data row10 col17\" >0</td>\n",
              "    </tr>\n",
              "  </tbody>\n",
              "</table>\n"
            ]
          },
          "metadata": {},
          "execution_count": 7
        }
      ]
    },
    {
      "cell_type": "code",
      "source": [
        "seven_tensors = []\n",
        "for o in sevens:\n",
        "    img = Image.open(o)\n",
        "    img_tensor = tensor(img)\n",
        "    seven_tensors.append(img_tensor)\n",
        "\n",
        "three_tensors = [tensor(Image.open(o)) for o in threes]\n",
        "len(three_tensors),len(seven_tensors)"
      ],
      "metadata": {
        "colab": {
          "base_uri": "https://localhost:8080/"
        },
        "id": "mR6XAPzojJzW",
        "outputId": "3ed68373-e154-44f5-f20e-f947d768ce2f"
      },
      "execution_count": null,
      "outputs": [
        {
          "output_type": "execute_result",
          "data": {
            "text/plain": [
              "(6131, 6265)"
            ]
          },
          "metadata": {},
          "execution_count": 8
        }
      ]
    },
    {
      "cell_type": "code",
      "source": [
        "# Stack up tensors to calculate the intensity of individual pixels\n",
        "stacked_sevens = torch.stack(seven_tensors).float()/255\n",
        "stacked_threes = torch.stack(three_tensors).float()/255\n",
        "stacked_threes.shape"
      ],
      "metadata": {
        "colab": {
          "base_uri": "https://localhost:8080/"
        },
        "id": "IvJUhf9bc2mE",
        "outputId": "76717dab-1973-4228-97af-df38541c8e9e"
      },
      "execution_count": null,
      "outputs": [
        {
          "output_type": "execute_result",
          "data": {
            "text/plain": [
              "torch.Size([6131, 28, 28])"
            ]
          },
          "metadata": {},
          "execution_count": 9
        }
      ]
    },
    {
      "cell_type": "code",
      "source": [
        "stacked_threes.ndim"
      ],
      "metadata": {
        "colab": {
          "base_uri": "https://localhost:8080/"
        },
        "id": "32tmOtiZpuYA",
        "outputId": "f6a99464-0aa0-4d2c-c9ef-cc03c8cc6c59"
      },
      "execution_count": null,
      "outputs": [
        {
          "output_type": "execute_result",
          "data": {
            "text/plain": [
              "3"
            ]
          },
          "metadata": {},
          "execution_count": 10
        }
      ]
    },
    {
      "cell_type": "code",
      "source": [
        "mean_3 = stacked_threes.mean(0)\n",
        "mean_7 = stacked_sevens.mean(0)\n",
        "show_image(mean_3)"
      ],
      "metadata": {
        "colab": {
          "base_uri": "https://localhost:8080/",
          "height": 132
        },
        "id": "c9xJBFZmqoKJ",
        "outputId": "6f7f7445-f50d-4a70-a9d4-f80726e6ec70"
      },
      "execution_count": null,
      "outputs": [
        {
          "output_type": "execute_result",
          "data": {
            "text/plain": [
              "<Axes: >"
            ]
          },
          "metadata": {},
          "execution_count": 11
        },
        {
          "output_type": "display_data",
          "data": {
            "text/plain": [
              "<Figure size 100x100 with 1 Axes>"
            ],
            "image/png": "[encoded data removed]"
          },
          "metadata": {}
        }
      ]
    },
    {
      "cell_type": "code",
      "source": [
        "show_image(mean_7)"
      ],
      "metadata": {
        "colab": {
          "base_uri": "https://localhost:8080/",
          "height": 132
        },
        "id": "HjY59OXArE6l",
        "outputId": "b53cf30f-26ec-46ce-861f-6acc6c060992"
      },
      "execution_count": null,
      "outputs": [
        {
          "output_type": "execute_result",
          "data": {
            "text/plain": [
              "<Axes: >"
            ]
          },
          "metadata": {},
          "execution_count": 12
        },
        {
          "output_type": "display_data",
          "data": {
            "text/plain": [
              "<Figure size 100x100 with 1 Axes>"
            ],
            "image/png": "[encoded data removed]"
          },
          "metadata": {}
        }
      ]
    },
    {
      "cell_type": "code",
      "source": [
        "a_3 = stacked_threes[3]\n",
        "F.l1_loss(a_3.float(),mean_7), F.mse_loss(a_3,mean_7).sqrt()"
      ],
      "metadata": {
        "colab": {
          "base_uri": "https://localhost:8080/"
        },
        "id": "HJX5AJEYxNbt",
        "outputId": "83a02dcc-8542-4918-bba3-fadc954a8c5d"
      },
      "execution_count": null,
      "outputs": [
        {
          "output_type": "execute_result",
          "data": {
            "text/plain": [
              "(tensor(0.1669), tensor(0.3170))"
            ]
          },
          "metadata": {},
          "execution_count": 13
        }
      ]
    },
    {
      "cell_type": "code",
      "source": [
        "three_valid_sets = torch.stack([tensor(Image.open(o)) for o in (path/'valid'/'3').ls()])\n",
        "seven_valid_sets = torch.stack([tensor(Image.open(o)) for o in (path/'valid'/'7').ls()])\n",
        "three_valid_sets = three_valid_sets.float()/255\n",
        "seven_valid_sets = seven_valid_sets.float()/255\n",
        "three_valid_sets.shape,seven_valid_sets.shape"
      ],
      "metadata": {
        "id": "jzuPKwbmx3K6",
        "colab": {
          "base_uri": "https://localhost:8080/"
        },
        "outputId": "41e9d35a-6f25-455c-a7fe-df517c22ec1b"
      },
      "execution_count": null,
      "outputs": [
        {
          "output_type": "execute_result",
          "data": {
            "text/plain": [
              "(torch.Size([1010, 28, 28]), torch.Size([1028, 28, 28]))"
            ]
          },
          "metadata": {},
          "execution_count": 20
        }
      ]
    },
    {
      "cell_type": "code",
      "source": [
        "def mnist_distance(a,b): return (a-b).abs().mean((-1,-2))\n",
        "mnist_distance(a_3, mean_3)"
      ],
      "metadata": {
        "colab": {
          "base_uri": "https://localhost:8080/"
        },
        "id": "sxbP6FL061xS",
        "outputId": "f768f453-b70f-46e3-e866-a8ab689c8b54"
      },
      "execution_count": null,
      "outputs": [
        {
          "output_type": "execute_result",
          "data": {
            "text/plain": [
              "tensor(0.1154)"
            ]
          },
          "metadata": {},
          "execution_count": 21
        }
      ]
    },
    {
      "cell_type": "code",
      "source": [
        "valid_3_dist = mnist_distance(three_valid_sets, mean_3)\n",
        "valid_3_dist, valid_3_dist.shape"
      ],
      "metadata": {
        "colab": {
          "base_uri": "https://localhost:8080/"
        },
        "id": "FImRu5gUqPET",
        "outputId": "b13b26d9-4dce-4748-c1cb-3fc910b67fbc"
      },
      "execution_count": null,
      "outputs": [
        {
          "output_type": "execute_result",
          "data": {
            "text/plain": [
              "(tensor([0.1367, 0.1295, 0.1087,  ..., 0.1177, 0.1364, 0.1142]),\n",
              " torch.Size([1010]))"
            ]
          },
          "metadata": {},
          "execution_count": 22
        }
      ]
    }
  ]
}